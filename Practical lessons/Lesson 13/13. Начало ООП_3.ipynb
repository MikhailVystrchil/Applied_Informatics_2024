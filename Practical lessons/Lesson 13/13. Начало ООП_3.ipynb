{
 "cells": [
  {
   "cell_type": "markdown",
   "metadata": {},
   "source": [
    "# Задачи на ООП"
   ]
  },
  {
   "cell_type": "markdown",
   "metadata": {},
   "source": [
    "# Задача 13\n",
    "\n",
    "## Главное задание\n",
    "\n",
    "**Раcсчитать и визуализировать деформации отсканированного резервуара**"
   ]
  },
  {
   "cell_type": "markdown",
   "metadata": {},
   "source": [
    "### Дополнительно\n",
    "\n",
    "* **Во всех рассчетах использовать отфильтрованное облако точек в котором удалено все лишнее - верх резервуара, точки на земле, лестница и тп.**\n",
    "\n",
    "\n",
    "* **Удалить лишние точки лучше черерз собственные классы ```Filter```, в крайнем случае - вручную.**\n",
    "\n",
    "\n",
    "\n",
    "***\n",
    "\n",
    "* **Проектное положение резервуара математически описывается цилиндром с постоянным радиусом и вертикальной осью.**\n",
    "\n",
    "\n",
    "* **Проектное положение цилиндра можно рассчитать по МНК, вписав окружность в облако точек (в котором игнорируется отметки точек ```z```), высота цилиндра определяется оттметками $z_{min}$ и $z_{max}$ облака точек.**\n",
    "* **В крайнем случае, параметры положения проектного цилиндра можно определить в сторонних программных продуктах (ReCap, AutoCad и тп).**\n",
    "\n",
    "***\n",
    "\n",
    "* **Деформацию резервуара можно считать как разницу между горизонтальным проложением от точки скана до оси проектного положения резервуара и его радиусом.**\n",
    "\n",
    "* **Визуализировать деформации резервуара можно изменив цвет точек скана в соответствии с их деформацией.**"
   ]
  },
  {
   "cell_type": "code",
   "execution_count": null,
   "metadata": {},
   "outputs": [],
   "source": []
  },
  {
   "cell_type": "markdown",
   "metadata": {},
   "source": [
    "***\n",
    "***"
   ]
  }
 ],
 "metadata": {
  "kernelspec": {
   "display_name": "Python 3 (ipykernel)",
   "language": "python",
   "name": "python3"
  },
  "language_info": {
   "codemirror_mode": {
    "name": "ipython",
    "version": 3
   },
   "file_extension": ".py",
   "mimetype": "text/x-python",
   "name": "python",
   "nbconvert_exporter": "python",
   "pygments_lexer": "ipython3",
   "version": "3.12.0"
  },
  "toc": {
   "base_numbering": 1,
   "nav_menu": {},
   "number_sections": true,
   "sideBar": true,
   "skip_h1_title": false,
   "title_cell": "Table of Contents",
   "title_sidebar": "Contents",
   "toc_cell": true,
   "toc_position": {},
   "toc_section_display": true,
   "toc_window_display": false
  }
 },
 "nbformat": 4,
 "nbformat_minor": 4
}
