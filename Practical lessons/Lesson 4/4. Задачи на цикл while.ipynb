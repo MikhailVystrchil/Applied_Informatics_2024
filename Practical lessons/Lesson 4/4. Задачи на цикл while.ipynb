{
 "cells": [
  {
   "cell_type": "markdown",
   "metadata": {
    "toc": true
   },
   "source": [
    "<h1>Table of Contents<span class=\"tocSkip\"></span></h1>\n",
    "<div class=\"toc\"><ul class=\"toc-item\"><li><span><a href=\"#Задачи-на-цикл-while\" data-toc-modified-id=\"Задачи-на-цикл-while-1\"><span class=\"toc-item-num\">1&nbsp;&nbsp;</span>Задачи на цикл <code>while</code></a></span><ul class=\"toc-item\"><li><span><a href=\"#Задача-5.1-$\\star$\" data-toc-modified-id=\"Задача-5.1-$\\star$-1.1\"><span class=\"toc-item-num\">1.1&nbsp;&nbsp;</span>Задача 5.1 $\\star$</a></span></li><li><span><a href=\"#Задача-5.2-$\\star$\" data-toc-modified-id=\"Задача-5.2-$\\star$-1.2\"><span class=\"toc-item-num\">1.2&nbsp;&nbsp;</span>Задача 5.2 $\\star$</a></span></li><li><span><a href=\"#Задача-5.3-$\\star$\" data-toc-modified-id=\"Задача-5.3-$\\star$-1.3\"><span class=\"toc-item-num\">1.3&nbsp;&nbsp;</span>Задача 5.3 $\\star$</a></span></li><li><span><a href=\"#Задача-5.4-$\\star$\" data-toc-modified-id=\"Задача-5.4-$\\star$-1.4\"><span class=\"toc-item-num\">1.4&nbsp;&nbsp;</span>Задача 5.4 $\\star$</a></span></li><li><span><a href=\"#Задача-5.5-$\\star$\" data-toc-modified-id=\"Задача-5.5-$\\star$-1.5\"><span class=\"toc-item-num\">1.5&nbsp;&nbsp;</span>Задача 5.5 $\\star$</a></span></li><li><span><a href=\"#Задача-5.6\" data-toc-modified-id=\"Задача-5.6-1.6\"><span class=\"toc-item-num\">1.6&nbsp;&nbsp;</span>Задача 5.6</a></span></li><li><span><a href=\"#Задача-5.7\" data-toc-modified-id=\"Задача-5.7-1.7\"><span class=\"toc-item-num\">1.7&nbsp;&nbsp;</span>Задача 5.7</a></span></li><li><span><a href=\"#Задача-5.8\" data-toc-modified-id=\"Задача-5.8-1.8\"><span class=\"toc-item-num\">1.8&nbsp;&nbsp;</span>Задача 5.8</a></span></li><li><span><a href=\"#Задача-5.9\" data-toc-modified-id=\"Задача-5.9-1.9\"><span class=\"toc-item-num\">1.9&nbsp;&nbsp;</span>Задача 5.9</a></span></li><li><span><a href=\"#Задача-5.10\" data-toc-modified-id=\"Задача-5.10-1.10\"><span class=\"toc-item-num\">1.10&nbsp;&nbsp;</span>Задача 5.10</a></span></li><li><span><a href=\"#Задача-5.11\" data-toc-modified-id=\"Задача-5.11-1.11\"><span class=\"toc-item-num\">1.11&nbsp;&nbsp;</span>Задача 5.11</a></span></li></ul></li></ul></div>"
   ]
  },
  {
   "cell_type": "markdown",
   "metadata": {},
   "source": [
    "# Задачи на цикл ```while```"
   ]
  },
  {
   "cell_type": "markdown",
   "metadata": {},
   "source": [
    "## Задача 4.1\n",
    "\n",
    "Дано целое число, не меньшее 2. \n",
    "\n",
    "Выведите его наименьший натуральный делитель, отличный от 1.\n",
    " \n",
    "\n",
    "**Входные данные**\n",
    "\n",
    "Вводится натуральное число N > 2.\n",
    "\n",
    "**Выходные данные**\n",
    "\n",
    "Вывести ответ на задачу."
   ]
  },
  {
   "cell_type": "code",
   "execution_count": null,
   "metadata": {},
   "outputs": [],
   "source": []
  },
  {
   "cell_type": "markdown",
   "metadata": {},
   "source": [
    "## Задача 4.2\n",
    "\n",
    "Последовательность Фибоначчи определяется так:\n",
    "\n",
    "$$ f_1=0, f_2=1, f_3=1, f_4=2, f_5=3, f_6=5, f_7=8    \\dots,     f_n=f_{n-1}+f_{n-2} $$\n",
    "\n",
    "По данному числу $n$ определите $n$-е число Фибоначчи $f_n$.\n",
    " \n",
    "**Входные данные**\n",
    "\n",
    "Вводится натуральное число N.\n",
    "\n",
    "**Выходные данные**\n",
    "\n",
    "Вывести ответ на задачу."
   ]
  },
  {
   "cell_type": "code",
   "execution_count": null,
   "metadata": {},
   "outputs": [],
   "source": []
  },
  {
   "cell_type": "markdown",
   "metadata": {},
   "source": [
    "## Задача 4.3\n",
    "\n",
    "Вводятся два натуральных числа. \n",
    "\n",
    "Необходимо вывести их наибольший общий делитель.\n",
    "\n",
    "> Подумайте как можно повысить эффективность алгоритма!\n",
    "\n",
    "**Входные данные**\n",
    "\n",
    "На вход подаётся два натуральных числа.\n",
    "\n",
    "**Выходные данные**\n",
    "\n",
    "Выведите ответ на задачу."
   ]
  },
  {
   "cell_type": "code",
   "execution_count": null,
   "metadata": {},
   "outputs": [],
   "source": []
  },
  {
   "cell_type": "markdown",
   "metadata": {},
   "source": [
    "## Задача 4.4\n",
    "\n",
    "Вводятся два натуральных числа. \n",
    "\n",
    "Необходимо вывести их наименьшее общие кратное.\n",
    "\n",
    "**Входные данные**\n",
    "\n",
    "На вход подаётся два натуральных числа.\n",
    "\n",
    "**Выходные данные**\n",
    "\n",
    "Выведите ответ на задачу."
   ]
  },
  {
   "cell_type": "code",
   "execution_count": null,
   "metadata": {},
   "outputs": [],
   "source": []
  },
  {
   "cell_type": "markdown",
   "metadata": {},
   "source": [
    "## Задача 4.5\n",
    "\n",
    "Последовательность вводимых чисел состоит из натуральных чисел и завершается числом 0. \n",
    "\n",
    "Определите, сколько элементов этой последовательности больше предыдущего элемента.\n",
    "\n",
    "**Входные данные**\n",
    "\n",
    "Вводится последовательность из натуральных чисел (гарантируется, что количество чисел в последовательности больше 2)\n",
    "\n",
    "**Выходные данные**\n",
    "\n",
    "Вывести ответ на задачу.\n",
    "\n",
    "**Sample Input:**\n",
    "\n",
    "1\n",
    "\n",
    "2\n",
    "\n",
    "3\n",
    "\n",
    "4\n",
    "\n",
    "0\n",
    "\n",
    "**Sample Output:**\n",
    "\n",
    "3"
   ]
  },
  {
   "cell_type": "code",
   "execution_count": null,
   "metadata": {},
   "outputs": [],
   "source": []
  },
  {
   "cell_type": "markdown",
   "metadata": {},
   "source": [
    "## Задача 4.6\n",
    "\n",
    "Последовательность состоит из натуральных чисел и завершается числом 0. \n",
    "\n",
    "Определите, какое количество элементов этой последовательности, равны ее наибольшему элементу. \n",
    "\n",
    "> Решите эту задачу, не пользуясь списками!\n",
    " \n",
    "**Входные данные**\n",
    "\n",
    "Вводится последовательность из натуральных чисел (гарантируется, что количество чисел в последовательности больше 2)\n",
    "\n",
    "**Выходные данные**\n",
    "\n",
    "Вывести ответ на задачу."
   ]
  },
  {
   "cell_type": "code",
   "execution_count": null,
   "metadata": {},
   "outputs": [],
   "source": []
  },
  {
   "cell_type": "markdown",
   "metadata": {},
   "source": [
    "## Задача 4.7\n",
    "\n",
    "Последовательность состоит из натуральных чисел и завершается числом 0. \n",
    "\n",
    "Определите значение второго минимального по величине элемента в этой последовательности, то есть элемента, который будет наименьшим, если из последовательности удалить наименьший элемент.\n",
    "\n",
    "Последнее число 0 не учитывается. \n",
    "\n",
    "Гарантируется, что в последовательности есть хотя бы два элемента (кроме завершающего числа 0).\n",
    " \n",
    "\n",
    "**Входные данные**\n",
    "\n",
    "На вход подаётся последовательность целых неотрицательных чисел, заканчивающаяся нулём. Все числа в последовательности неотрицательные.\n",
    "\n",
    "**Выходные данные**\n",
    "\n",
    "Выведите ответ на задачу."
   ]
  },
  {
   "cell_type": "code",
   "execution_count": null,
   "metadata": {},
   "outputs": [],
   "source": []
  },
  {
   "cell_type": "markdown",
   "metadata": {},
   "source": [
    "## Задача 4.8\n",
    "\n",
    "Вводится натуральное число N. \n",
    "\n",
    "Вывести сумму его цифр.\n",
    "\n",
    "**Входные данные**\n",
    "\n",
    "Вводится натуральное число N.\n",
    "\n",
    "**Выходные данные**\n",
    "\n",
    "Вывести ответ на задачу."
   ]
  },
  {
   "cell_type": "code",
   "execution_count": null,
   "metadata": {},
   "outputs": [],
   "source": []
  },
  {
   "cell_type": "markdown",
   "metadata": {},
   "source": [
    "## Задача 4.9\n",
    "\n",
    "Вводится натуральное число N. \n",
    "\n",
    "Если число является палиндром, вывести ```Yes```, иначе вывести ```No```. \n",
    "\n",
    "Назовем число палиндромом, если оно не меняется при перестановке его цифр в обратном порядке.\n",
    "\n",
    "**Входные данные**\n",
    "\n",
    "Вводится натуральное число N.\n",
    "\n",
    "**Выходные данные**\n",
    "\n",
    "Вывести ответ на задачу.\n",
    "\n",
    "> функция ```len()``` может выдать количество символов в строке"
   ]
  },
  {
   "cell_type": "code",
   "execution_count": null,
   "metadata": {},
   "outputs": [],
   "source": []
  },
  {
   "cell_type": "markdown",
   "metadata": {},
   "source": [
    "## Задача 4.10\n",
    "\n",
    "Вводится натуральное число N. \n",
    "\n",
    "Переставьте цифры числа в обратном порядке.\n",
    "\n",
    "**Входные данные**\n",
    "\n",
    "Вводится натуральное число N.\n",
    "\n",
    "**Выходные данные**\n",
    "Вывести ответ на задачу.\n",
    "\n",
    "> Постарайтесь оптимизировать решение задачи!"
   ]
  },
  {
   "cell_type": "code",
   "execution_count": null,
   "metadata": {},
   "outputs": [],
   "source": []
  }
 ],
 "metadata": {
  "kernelspec": {
   "display_name": "Python 3 (ipykernel)",
   "language": "python",
   "name": "python3"
  },
  "language_info": {
   "codemirror_mode": {
    "name": "ipython",
    "version": 3
   },
   "file_extension": ".py",
   "mimetype": "text/x-python",
   "name": "python",
   "nbconvert_exporter": "python",
   "pygments_lexer": "ipython3",
   "version": "3.12.0"
  },
  "toc": {
   "base_numbering": 1,
   "nav_menu": {},
   "number_sections": true,
   "sideBar": true,
   "skip_h1_title": false,
   "title_cell": "Table of Contents",
   "title_sidebar": "Contents",
   "toc_cell": true,
   "toc_position": {},
   "toc_section_display": true,
   "toc_window_display": false
  }
 },
 "nbformat": 4,
 "nbformat_minor": 4
}
