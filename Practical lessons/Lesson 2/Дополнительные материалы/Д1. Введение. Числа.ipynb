{
 "cells": [
  {
   "cell_type": "markdown",
   "metadata": {
    "toc": true
   },
   "source": [
    "<h1>Table of Contents<span class=\"tocSkip\"></span></h1>\n",
    "<div class=\"toc\"><ul class=\"toc-item\"><li><span><a href=\"#Лекция-1\" data-toc-modified-id=\"Лекция-1-1\"><span class=\"toc-item-num\">1&nbsp;&nbsp;</span>Лекция 1</a></span><ul class=\"toc-item\"><li><span><a href=\"#Язык-программирования-Python-и-его-преимущества\" data-toc-modified-id=\"Язык-программирования-Python-и-его-преимущества-1.1\"><span class=\"toc-item-num\">1.1&nbsp;&nbsp;</span>Язык программирования Python и его преимущества</a></span></li></ul></li><li><span><a href=\"#Типы-данных-в-Python\" data-toc-modified-id=\"Типы-данных-в-Python-2\"><span class=\"toc-item-num\">2&nbsp;&nbsp;</span>Типы данных в Python</a></span><ul class=\"toc-item\"><li><ul class=\"toc-item\"><li><span><a href=\"#Реализация-типов-данных-в-других-языках\" data-toc-modified-id=\"Реализация-типов-данных-в-других-языках-2.0.1\"><span class=\"toc-item-num\">2.0.1&nbsp;&nbsp;</span>Реализация типов данных в других языках</a></span></li></ul></li></ul></li><li><span><a href=\"#Работа-с-числами-в-Python\" data-toc-modified-id=\"Работа-с-числами-в-Python-3\"><span class=\"toc-item-num\">3&nbsp;&nbsp;</span>Работа с числами в Python</a></span><ul class=\"toc-item\"><li><span><a href=\"#Целые-числа\" data-toc-modified-id=\"Целые-числа-3.1\"><span class=\"toc-item-num\">3.1&nbsp;&nbsp;</span>Целые числа</a></span></li><li><span><a href=\"#Вещественные-числа\" data-toc-modified-id=\"Вещественные-числа-3.2\"><span class=\"toc-item-num\">3.2&nbsp;&nbsp;</span>Вещественные числа</a></span></li><li><span><a href=\"#Комплексные-числа\" data-toc-modified-id=\"Комплексные-числа-3.3\"><span class=\"toc-item-num\">3.3&nbsp;&nbsp;</span>Комплексные числа</a></span></li></ul></li><li><span><a href=\"#Булевы-значения\" data-toc-modified-id=\"Булевы-значения-4\"><span class=\"toc-item-num\">4&nbsp;&nbsp;</span>Булевы значения</a></span></li></ul></div>"
   ]
  },
  {
   "cell_type": "markdown",
   "metadata": {},
   "source": [
    "# Типы данных в Python\n",
    "\n",
    "В Python есть несколько стандартных типов данных:\n",
    "\n",
    "* Numbers (числа)\n",
    "\n",
    "* Strings (строки)\n",
    "\n",
    "* Boolean (логический тип данных)\n",
    "\n",
    "\n",
    "* Lists (списки)\n",
    "* Tuples (кортежи)\n",
    "* Dictionaries (словари)\n",
    "* Sets (множества)\n",
    "\n",
    "Эти типы данных можно, в свою очередь, классифицировать по нескольким признакам:\n",
    "\n",
    "- **изменяемые** (списки, словари и множества)\n",
    "- **неизменяемые** (числа, строки и кортежи)\n",
    "- **упорядоченные** (списки, кортежи, строки и словари)\n",
    "- **неупорядоченные** (множества)\n"
   ]
  },
  {
   "cell_type": "markdown",
   "metadata": {},
   "source": [
    "### Реализация типов данных в других языках\n",
    "\n",
    "В Java существует 8 примитивных типов данных:\n",
    "\n",
    "* **byte** (целые числа, 1 байт) *(от -128 до 127)*\n",
    "* **short** (целые числа, 2 байта) *(от -32768 до 32767)*\n",
    "* **int** (целые числа, 4 байта) *(-2147483648 до 2147483647)*\n",
    "* **long** (целые числа, 8 байтов) *(-9223372036854775808 до 9223372036854775807)*\n",
    "\n",
    "\n",
    "* **float** (вещественные числа, 4 байта)\n",
    "* **double** (вещественные числа, 8 байтов)\n",
    "\n",
    "\n",
    "* **char** (символ Unicode, 2 байта) \n",
    "\n",
    "\n",
    "* **boolean** (значение истина/ложь, 1 байт) *(true или false)*\n",
    "\n",
    "\n",
    "[Примитивные типы данных в C++](https://metanit.com/cpp/tutorial/2.3.php)\n",
    "\n",
    "***\n",
    "***"
   ]
  },
  {
   "cell_type": "markdown",
   "metadata": {},
   "source": [
    "# Работа с числами в Python\n",
    "\n",
    "В Python достаточно просто работать с числами. Он поддерживает всего три числовых типа:\n",
    "\n",
    "* **int** (целые числа)\n",
    "\n",
    "* **float** (числа с плавающей точкой)\n",
    "\n",
    "* **complex** (комплексные числа)\n",
    "\n",
    "\n",
    "Хотя **int** и **float** присутствуют в большинстве других языков программирования, наличие типа комплексных чисел — уникальная особенность Python. Теперь рассмотрим в деталях каждый из типов.\n",
    "***\n",
    "***"
   ]
  },
  {
   "cell_type": "markdown",
   "metadata": {},
   "source": [
    "## Целые числа\n",
    "\n",
    "В явном виде создаются через конструктор:\n",
    "```python\n",
    "int()\n",
    "```\n",
    "В который передаются непсредственно числа или строка которую можно представить целым числом\n",
    "```python\n",
    "a = int(42)\n",
    "b = int(42.8)\n",
    "c = int(\"42\")\n",
    "d = int(\"42.8\")\n",
    "e = int(42,8)     # не верно!\n",
    "```\n",
    "\n",
    "***\n",
    "***"
   ]
  },
  {
   "cell_type": "code",
   "execution_count": null,
   "metadata": {},
   "outputs": [],
   "source": [
    "a = int(42)\n",
    "print(a, type(a))"
   ]
  },
  {
   "cell_type": "code",
   "execution_count": null,
   "metadata": {},
   "outputs": [],
   "source": [
    "a = int(-42)\n",
    "print(a, type(a))"
   ]
  },
  {
   "cell_type": "code",
   "execution_count": null,
   "metadata": {},
   "outputs": [],
   "source": [
    "b = int(42.8)\n",
    "print(b, type(b))"
   ]
  },
  {
   "cell_type": "code",
   "execution_count": null,
   "metadata": {},
   "outputs": [],
   "source": [
    "b = int(-0.8)\n",
    "print(b, type(b))"
   ]
  },
  {
   "cell_type": "code",
   "execution_count": null,
   "metadata": {},
   "outputs": [],
   "source": [
    "c = int(\"28\")\n",
    "print(c, type(c))"
   ]
  },
  {
   "cell_type": "code",
   "execution_count": null,
   "metadata": {},
   "outputs": [],
   "source": [
    "c = int(\"-28\")\n",
    "print(c, type(c))"
   ]
  },
  {
   "cell_type": "code",
   "execution_count": null,
   "metadata": {},
   "outputs": [],
   "source": [
    "# ВАЖНО!!! В строке только целые числа!!!\n",
    "\n",
    "d = int(\"28.8\")\n",
    "print(d, type(d))"
   ]
  },
  {
   "cell_type": "code",
   "execution_count": null,
   "metadata": {},
   "outputs": [],
   "source": [
    "e = int(42,8)\n",
    "print(e, type(e))"
   ]
  },
  {
   "cell_type": "markdown",
   "metadata": {},
   "source": [
    "***\n",
    "***\n",
    "\n",
    "Для стандартных типов данных существуют сокращенные псевдонимы для создания экземпляров объектов:\n",
    "\n",
    "```python\n",
    "a = 42\n",
    "b = 42.8\n",
    "c = \"42\"\n",
    "d = \"42.8\"\n",
    "e = 1_000_000_000\n",
    "f = 42e3\n",
    "g = 42,8\n",
    "```\n",
    "\n",
    "***\n",
    "***"
   ]
  },
  {
   "cell_type": "code",
   "execution_count": null,
   "metadata": {},
   "outputs": [],
   "source": [
    "a = 42\n",
    "print(a, type(a))"
   ]
  },
  {
   "cell_type": "code",
   "execution_count": null,
   "metadata": {},
   "outputs": [],
   "source": [
    "b = 42.8\n",
    "print(b, type(b))"
   ]
  },
  {
   "cell_type": "code",
   "execution_count": null,
   "metadata": {},
   "outputs": [],
   "source": [
    "c = \"42\"\n",
    "print(c, type(c))"
   ]
  },
  {
   "cell_type": "code",
   "execution_count": null,
   "metadata": {},
   "outputs": [],
   "source": [
    "d = \"42.8\"\n",
    "print(d, type(d))"
   ]
  },
  {
   "cell_type": "code",
   "execution_count": null,
   "metadata": {},
   "outputs": [],
   "source": [
    "e = 1_000_000_000\n",
    "print(e, type(e))"
   ]
  },
  {
   "cell_type": "code",
   "execution_count": null,
   "metadata": {},
   "outputs": [],
   "source": [
    "f = 42e3\n",
    "print(f, type(f))"
   ]
  },
  {
   "cell_type": "code",
   "execution_count": null,
   "metadata": {},
   "outputs": [],
   "source": [
    "g = 42,8\n",
    "print(g, type(g))"
   ]
  },
  {
   "cell_type": "markdown",
   "metadata": {},
   "source": [
    "***\n",
    "***\n",
    "Фактически в первых примерах создание объекта происходило *дважды*:\n",
    "\n",
    "***\n",
    "***\n",
    "\n"
   ]
  },
  {
   "cell_type": "code",
   "execution_count": null,
   "metadata": {},
   "outputs": [],
   "source": [
    "a = 42\n",
    "print(a, type(a), id(a))\n",
    "a = int(a)\n",
    "print(a, type(a), id(a))"
   ]
  },
  {
   "cell_type": "code",
   "execution_count": null,
   "metadata": {},
   "outputs": [],
   "source": [
    "b = 42.8\n",
    "print(b, type(b), id(b))\n",
    "b = int(b)\n",
    "print(b, type(b), id(b))"
   ]
  },
  {
   "cell_type": "code",
   "execution_count": null,
   "metadata": {},
   "outputs": [],
   "source": [
    "c = \"28\"\n",
    "print(c, type(c), id(c))\n",
    "c = int(c)\n",
    "print(c, type(c), id(c))"
   ]
  },
  {
   "cell_type": "code",
   "execution_count": null,
   "metadata": {},
   "outputs": [],
   "source": [
    "d = \"42.8\"\n",
    "print(d, type(d), id(d))\n",
    "d = int(d)\n",
    "print(d, type(d), id(d))"
   ]
  },
  {
   "cell_type": "code",
   "execution_count": null,
   "metadata": {},
   "outputs": [],
   "source": [
    "d = \"42.8\"\n",
    "print(d, type(d), id(d))\n",
    "d = float(d)\n",
    "print(d, type(d), id(d))\n",
    "d = int(d)\n",
    "print(d, type(d), id(d))"
   ]
  },
  {
   "cell_type": "code",
   "execution_count": null,
   "metadata": {},
   "outputs": [],
   "source": [
    "e = 42,8\n",
    "print(e, type(e), id(e))\n",
    "e = 42, 8\n",
    "print(e, type(e), id(e))\n",
    "e = (42, 8)\n",
    "print(e, type(e), id(e))\n",
    "print(e[0], type(e[0]), id(e[0]))\n",
    "print(e[1], type(e[1]), id(e[1]))"
   ]
  },
  {
   "cell_type": "markdown",
   "metadata": {},
   "source": [
    "***\n",
    "***\n",
    "Взгляенем еще раз на полученые ранее ошибки\n",
    "***\n",
    "***"
   ]
  },
  {
   "cell_type": "code",
   "execution_count": null,
   "metadata": {},
   "outputs": [],
   "source": [
    "err = int(42,8)"
   ]
  },
  {
   "cell_type": "code",
   "execution_count": null,
   "metadata": {},
   "outputs": [],
   "source": [
    "err = int(\"28.14\")"
   ]
  },
  {
   "cell_type": "markdown",
   "metadata": {},
   "source": [
    "***\n",
    "***\n",
    "\n",
    "Конструктор ``` int() ``` принимает в качестве необязательного параметра основание системы счистления\n",
    "\n",
    "> По умолчанию принимается осонвание 10\n",
    "\n",
    "***\n",
    "***"
   ]
  },
  {
   "cell_type": "code",
   "execution_count": null,
   "metadata": {},
   "outputs": [],
   "source": [
    "number = int(\"24\", base=10)\n",
    "print(number, type(number), id(number))\n",
    "\n",
    "number = int(\"24\", base=8)\n",
    "print(number, type(number), id(number))\n",
    "\n",
    "number = int(\"24\", base=16)\n",
    "print(number, type(number), id(number))\n",
    "\n",
    "number = int(\"24\", base=2)\n",
    "print(number, type(number), id(number))"
   ]
  },
  {
   "cell_type": "code",
   "execution_count": null,
   "metadata": {},
   "outputs": [],
   "source": [
    "number = int(\"11000\", base=2)\n",
    "print(number, type(number), id(number))"
   ]
  },
  {
   "cell_type": "code",
   "execution_count": null,
   "metadata": {},
   "outputs": [],
   "source": [
    "# Явно указывать на название переменной при вызове не обязательно\n",
    "\n",
    "number = int(\"24\", 10)\n",
    "print(number, type(number), id(number))\n",
    "\n",
    "number = int(\"24\", 8)\n",
    "print(number, type(number), id(number))\n",
    "\n",
    "number = int(\"24\", 16)\n",
    "print(number, type(number), id(number))\n",
    "\n",
    "number = int(\"24\", 2)\n",
    "print(number, type(number), id(number))"
   ]
  },
  {
   "cell_type": "markdown",
   "metadata": {},
   "source": [
    "***\n",
    "***\n",
    "\n",
    "Для прямого указания на ситсему счистления можно явно указывать литералы перед значением числа:\n",
    "\n",
    "```\n",
    "0b - для двоичных чисел\n",
    "0o - для восимиричных чисел\n",
    "0x - для шестнадцатиричных чисел\n",
    "```\n",
    "\n",
    "***\n",
    "***"
   ]
  },
  {
   "cell_type": "code",
   "execution_count": null,
   "metadata": {},
   "outputs": [],
   "source": [
    "number = 0b11000\n",
    "print(number, type(number), id(number))\n",
    "\n",
    "number = 0o30\n",
    "print(number, type(number), id(number))\n",
    "\n",
    "number = 0x18\n",
    "print(number, type(number), id(number))"
   ]
  },
  {
   "cell_type": "markdown",
   "metadata": {},
   "source": [
    "***\n",
    "***\n",
    "\n",
    "**В Python для целых чисел по умолчанию реализована возможность работы с длинными числами**\n",
    "\n",
    "***\n",
    "***"
   ]
  },
  {
   "cell_type": "code",
   "execution_count": null,
   "metadata": {},
   "outputs": [],
   "source": [
    "a = 2 ** 100000\n",
    "print(a)"
   ]
  },
  {
   "cell_type": "code",
   "execution_count": null,
   "metadata": {},
   "outputs": [],
   "source": [
    "print(\"Количество знаков в числе:\", len(str(a)))"
   ]
  },
  {
   "cell_type": "markdown",
   "metadata": {},
   "source": [
    "***\n",
    "***\n",
    "> При неаккуратной работе такие числа могут занимать в памяти **сотни мегабайт**!!!\n",
    "\n",
    "***\n",
    "***"
   ]
  },
  {
   "cell_type": "markdown",
   "metadata": {},
   "source": [
    "## Вещественные числа\n",
    "В явном виде создаются через конструктор:\n",
    "```\n",
    "float()\n",
    "```\n",
    "В который передаются непсредственно числа или строка которую можно представить вещественным числом\n",
    "\n",
    "```python\n",
    "a = float(42)\n",
    "b = float(42.8)\n",
    "c = float(\"42\")\n",
    "d = float(\"42.8\")\n",
    "e = float(42e8)\n",
    "```\n",
    "\n",
    "***\n",
    "***"
   ]
  },
  {
   "cell_type": "code",
   "execution_count": null,
   "metadata": {},
   "outputs": [],
   "source": [
    "a = float(42)\n",
    "print(a, type(a))"
   ]
  },
  {
   "cell_type": "code",
   "execution_count": null,
   "metadata": {},
   "outputs": [],
   "source": [
    "b = float(42.8)\n",
    "print(b, type(b))"
   ]
  },
  {
   "cell_type": "code",
   "execution_count": null,
   "metadata": {},
   "outputs": [],
   "source": [
    "c = float(\"42\")\n",
    "print(c, type(c))"
   ]
  },
  {
   "cell_type": "code",
   "execution_count": null,
   "metadata": {},
   "outputs": [],
   "source": [
    "d = float(\"42.8\")\n",
    "print(d, type(d))"
   ]
  },
  {
   "cell_type": "code",
   "execution_count": null,
   "metadata": {},
   "outputs": [],
   "source": [
    "e = float(42e8)\n",
    "print(e, type(e))"
   ]
  },
  {
   "cell_type": "markdown",
   "metadata": {},
   "source": [
    "***\n",
    "***\n",
    "\n",
    "Для вещественных чисел также существует псевдоним для создания экземпляров объектов:\n",
    "\n",
    "```python\n",
    "a = 42.0\n",
    "b = 42.8\n",
    "c = -28\n",
    "d = 0.0\n",
    "e = -0.0\n",
    "f = 42e3\n",
    "```\n",
    "\n",
    "***\n",
    "***"
   ]
  },
  {
   "cell_type": "code",
   "execution_count": null,
   "metadata": {},
   "outputs": [],
   "source": [
    "a = 42.0\n",
    "b = 42.8\n",
    "c = -28.121345\n",
    "d = 0.0\n",
    "e = -0.0\n",
    "f = 42e3\n",
    "print(\"a =\", a, type(a))\n",
    "print(\"b =\", b, type(b))\n",
    "print(\"c =\", c, type(c))\n",
    "print(\"d =\", d, type(d), id(d))\n",
    "print(\"e =\", e, type(e), id(e))\n",
    "print(\"f =\", f, type(f))"
   ]
  },
  {
   "cell_type": "code",
   "execution_count": null,
   "metadata": {},
   "outputs": [],
   "source": [
    "print(\"-0.0 и 0.0 это одно и тоже?\\n -\", d == e)"
   ]
  },
  {
   "cell_type": "markdown",
   "metadata": {},
   "source": [
    "***\n",
    "***\n",
    "\n",
    "**Однако дробные числа коварны!!!**\n",
    "\n",
    "***\n",
    "***"
   ]
  },
  {
   "cell_type": "code",
   "execution_count": null,
   "metadata": {},
   "outputs": [],
   "source": [
    "rez = 0.1 + 0.1 + 0.1 + 0.1 + 0.1 + 0.1 + 0.1 + 0.1 + 0.1 + 0.1 \n",
    "print(rez)\n",
    "print(rez == 1)\n",
    "print(rez == 1.0)"
   ]
  },
  {
   "cell_type": "code",
   "execution_count": null,
   "metadata": {},
   "outputs": [],
   "source": [
    "print(0.1)\n",
    "print(format(0.1))\n",
    "print(format(0.1, \".12f\"))\n",
    "print(format(0.1, \".23f\"))\n",
    "print(format(0.1, \".56f\"))\n",
    "print(format(0.1, \".102f\"))"
   ]
  },
  {
   "cell_type": "code",
   "execution_count": null,
   "metadata": {},
   "outputs": [],
   "source": [
    "rez = 0.1 + 0.1 + 0.1 + 0.1 + 0.1 + 0.1 + 0.1 + 0.1 + 0.1 + 0.1 \n",
    "print(rez)\n",
    "print(format(rez, \".56f\"))"
   ]
  },
  {
   "cell_type": "code",
   "execution_count": null,
   "metadata": {},
   "outputs": [],
   "source": [
    "rez = 0.1 * 10\n",
    "print(rez)\n",
    "print(rez == 1)"
   ]
  },
  {
   "attachments": {
    "%D0%A1%D0%BD%D0%B8%D0%BC%D0%BE%D0%BA%20%D1%8D%D0%BA%D1%80%D0%B0%D0%BD%D0%B0%202021-09-12%20151009.png": {
     "image/png": "[encoded data removed]"
    }
   },
   "cell_type": "markdown",
   "metadata": {},
   "source": [
    "***\n",
    "***\n",
    "Показанные погрешности вызваны невозможностью точного представления вещественных чисел в двоичной системе.\n",
    "\n",
    "Вещественные числа обычно представляются в виде чисел с плавающей запятой. Числа с плавающей запятой — один из возможных способов представления действительных чисел, который является компромиссом между точностью и диапазоном принимаемых значений, его можно считать аналогом экспоненциальной записи чисел, но только в памяти компьютера.\n",
    "\n",
    "Число с плавающей запятой состоит из набора отдельных двоичных разрядов, условно разделенных на так называемые знак (англ. sign), порядок (англ. exponent) и мантиссу (англ. mantis). В наиболее распространённом формате (стандарт IEEE 754) число с плавающей запятой представляется в виде набора битов, часть из которых кодирует собой мантиссу числа, другая часть — показатель степени, и ещё один бит используется для указания знака числа (0 — если число положительное, 1 — если число отрицательное). При этом порядок записывается как целое число в коде со сдвигом, а мантисса — в нормализованном виде, своей дробной частью в двоичной системе счисления. Вот пример такого числа из 16 двоичных разрядов:\n",
    "\n",
    "![%D0%A1%D0%BD%D0%B8%D0%BC%D0%BE%D0%BA%20%D1%8D%D0%BA%D1%80%D0%B0%D0%BD%D0%B0%202021-09-12%20151009.png](attachment:%D0%A1%D0%BD%D0%B8%D0%BC%D0%BE%D0%BA%20%D1%8D%D0%BA%D1%80%D0%B0%D0%BD%D0%B0%202021-09-12%20151009.png)\n",
    "\n",
    "Знак — один бит, указывающий знак всего числа с плавающей точкой. Порядок и мантисса — целые числа, которые вместе со знаком дают представление числа с плавающей запятой.\n",
    "\n",
    "> Подробный разбор этой проблемы описан в статье [Фатальные ошибки двоичной арифметики при работе с числами с плавающей точкой](https://habr.com/ru/post/309812/)\n",
    "\n",
    "***\n",
    "***\n",
    "\n",
    "**Чем больше порядок числа тем меньше разрядов содержит мантисса!**\n",
    "\n",
    "***\n",
    "***"
   ]
  },
  {
   "cell_type": "code",
   "execution_count": null,
   "metadata": {},
   "outputs": [],
   "source": [
    "print(123.12345678)\n",
    "print(format(123.12345678))\n",
    "print(format(123.12345678, \".12f\"))\n",
    "print(format(123.12345678, \".23f\"))\n",
    "print(format(123.12345678, \".56f\"))\n",
    "print(format(123.12345678, \".102f\"))"
   ]
  },
  {
   "cell_type": "markdown",
   "metadata": {},
   "source": [
    "***\n",
    "***\n",
    "\n",
    "**По очевидным причинам математика с длинными вещественными числами не возможна :(**\n",
    "\n",
    "***\n",
    "***"
   ]
  },
  {
   "cell_type": "code",
   "execution_count": null,
   "metadata": {},
   "outputs": [],
   "source": [
    "print(2 ** 100_000 + 0.1)"
   ]
  },
  {
   "cell_type": "code",
   "execution_count": null,
   "metadata": {},
   "outputs": [],
   "source": [
    "f = float(99999999999999999999999999999999999999999999999999999999999999999999999999999999999999999999999999999999999999999999999999998999999999999999999999999999999999999999999999999999999999999999999999999999999999999999999999999999999999999999999999999999999999999999999999999999999999999999999999999999999999999999)\n",
    "print(f, type(f))\n",
    "f = float(999999999999999999999999999999999999999999999999999999999999999999999999999999999999999999999999999999999999999999999999999998999999999999999999999999999999999999999999999999999999999999999999999999999999999999999999999999999999999999999999999999999999999999999999999999999999999999999999999999999999999999999)\n",
    "print(f, type(f))"
   ]
  },
  {
   "cell_type": "markdown",
   "metadata": {},
   "source": [
    "## Комплексные числа\n",
    "В явном виде создаются через конструктор:\n",
    "```\n",
    "complex(re, im)\n",
    "```\n",
    "В который передаются непсредственно числа или строка которую можно представить вещественным числом\n",
    "\n",
    "```python\n",
    "a = complex(42, 0)\n",
    "b = complex(42.8, 2.4)\n",
    "```\n",
    "\n",
    "***\n",
    "***"
   ]
  },
  {
   "cell_type": "code",
   "execution_count": null,
   "metadata": {},
   "outputs": [],
   "source": [
    "a = complex(42, 0)\n",
    "b = complex(42.8, 2.4)\n",
    "c = complex(\"42\", \"13.2\")"
   ]
  },
  {
   "cell_type": "code",
   "execution_count": null,
   "metadata": {},
   "outputs": [],
   "source": [
    "print(a, type(a))\n",
    "print(b, type(b))"
   ]
  },
  {
   "cell_type": "markdown",
   "metadata": {},
   "source": [
    "***\n",
    "***"
   ]
  }
 ],
 "metadata": {
  "kernelspec": {
   "display_name": "Python 3 (ipykernel)",
   "language": "python",
   "name": "python3"
  },
  "language_info": {
   "codemirror_mode": {
    "name": "ipython",
    "version": 3
   },
   "file_extension": ".py",
   "mimetype": "text/x-python",
   "name": "python",
   "nbconvert_exporter": "python",
   "pygments_lexer": "ipython3",
   "version": "3.12.0"
  },
  "toc": {
   "base_numbering": 1,
   "nav_menu": {},
   "number_sections": true,
   "sideBar": true,
   "skip_h1_title": false,
   "title_cell": "Table of Contents",
   "title_sidebar": "Contents",
   "toc_cell": true,
   "toc_position": {},
   "toc_section_display": true,
   "toc_window_display": false
  }
 },
 "nbformat": 4,
 "nbformat_minor": 4
}
