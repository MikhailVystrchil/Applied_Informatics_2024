{
 "cells": [
  {
   "cell_type": "markdown",
   "metadata": {
    "toc": true
   },
   "source": [
    "<h1>Table of Contents<span class=\"tocSkip\"></span></h1>\n",
    "<div class=\"toc\"><ul class=\"toc-item\"><li><span><a href=\"#Операторы\" data-toc-modified-id=\"Операторы-1\"><span class=\"toc-item-num\">1&nbsp;&nbsp;</span>Операторы</a></span><ul class=\"toc-item\"><li><span><a href=\"#Арифметические-операторы-в-Python\" data-toc-modified-id=\"Арифметические-операторы-в-Python-1.1\"><span class=\"toc-item-num\">1.1&nbsp;&nbsp;</span>Арифметические операторы в Python</a></span></li><li><span><a href=\"#Побитовые-операторы-в-Python\" data-toc-modified-id=\"Побитовые-операторы-в-Python-1.2\"><span class=\"toc-item-num\">1.2&nbsp;&nbsp;</span>Побитовые операторы в Python</a></span><ul class=\"toc-item\"><li><span><a href=\"#Бинарное-И-(&amp;)\" data-toc-modified-id=\"Бинарное-И-(&amp;)-1.2.1\"><span class=\"toc-item-num\">1.2.1&nbsp;&nbsp;</span>Бинарное И (&amp;)</a></span></li><li><span><a href=\"#Бинарное-ИЛИ-(|)\" data-toc-modified-id=\"Бинарное-ИЛИ-(|)-1.2.2\"><span class=\"toc-item-num\">1.2.2&nbsp;&nbsp;</span>Бинарное ИЛИ (|)</a></span></li><li><span><a href=\"#Бинарное-ИЛИ-НЕТ-(^)\" data-toc-modified-id=\"Бинарное-ИЛИ-НЕТ-(^)-1.2.3\"><span class=\"toc-item-num\">1.2.3&nbsp;&nbsp;</span>Бинарное ИЛИ НЕТ (^)</a></span></li><li><span><a href=\"#Инвертирующий-оператор-(~)\" data-toc-modified-id=\"Инвертирующий-оператор-(~)-1.2.4\"><span class=\"toc-item-num\">1.2.4&nbsp;&nbsp;</span>Инвертирующий оператор (~)</a></span></li><li><span><a href=\"#Бинарный-сдвиг-влево-(<<)\" data-toc-modified-id=\"Бинарный-сдвиг-влево-(<<)-1.2.5\"><span class=\"toc-item-num\">1.2.5&nbsp;&nbsp;</span>Бинарный сдвиг влево (&lt;&lt;)</a></span></li><li><span><a href=\"#Бинарный-сдвиг-вправо-(>>)\" data-toc-modified-id=\"Бинарный-сдвиг-вправо-(>>)-1.2.6\"><span class=\"toc-item-num\">1.2.6&nbsp;&nbsp;</span>Бинарный сдвиг вправо (&gt;&gt;)</a></span></li></ul></li><li><span><a href=\"#Операторы-присваивания\" data-toc-modified-id=\"Операторы-присваивания-1.3\"><span class=\"toc-item-num\">1.3&nbsp;&nbsp;</span>Операторы присваивания</a></span></li><li><span><a href=\"#Операторы-сравнения-в-Python\" data-toc-modified-id=\"Операторы-сравнения-в-Python-1.4\"><span class=\"toc-item-num\">1.4&nbsp;&nbsp;</span>Операторы сравнения в Python</a></span></li><li><span><a href=\"#Логические-операторы-в-Python\" data-toc-modified-id=\"Логические-операторы-в-Python-1.5\"><span class=\"toc-item-num\">1.5&nbsp;&nbsp;</span>Логические операторы в Python</a></span><ul class=\"toc-item\"><li><span><a href=\"#Оператор-AND\" data-toc-modified-id=\"Оператор-AND-1.5.1\"><span class=\"toc-item-num\">1.5.1&nbsp;&nbsp;</span>Оператор AND</a></span></li><li><span><a href=\"#Оператор-OR\" data-toc-modified-id=\"Оператор-OR-1.5.2\"><span class=\"toc-item-num\">1.5.2&nbsp;&nbsp;</span>Оператор OR</a></span></li><li><span><a href=\"#Оператор-NOT\" data-toc-modified-id=\"Оператор-NOT-1.5.3\"><span class=\"toc-item-num\">1.5.3&nbsp;&nbsp;</span>Оператор NOT</a></span></li></ul></li><li><span><a href=\"#Операторы-тождественности-в-Python\" data-toc-modified-id=\"Операторы-тождественности-в-Python-1.6\"><span class=\"toc-item-num\">1.6&nbsp;&nbsp;</span>Операторы тождественности в Python</a></span></li><li><span><a href=\"#Операторы-принадлежности-в-Python\" data-toc-modified-id=\"Операторы-принадлежности-в-Python-1.7\"><span class=\"toc-item-num\">1.7&nbsp;&nbsp;</span>Операторы принадлежности в Python</a></span><ul class=\"toc-item\"><li><span><a href=\"#В-(in)\" data-toc-modified-id=\"В-(in)-1.7.1\"><span class=\"toc-item-num\">1.7.1&nbsp;&nbsp;</span>В (in)</a></span></li><li><span><a href=\"#Нет-в-(not-in)\" data-toc-modified-id=\"Нет-в-(not-in)-1.7.2\"><span class=\"toc-item-num\">1.7.2&nbsp;&nbsp;</span>Нет в (not in)</a></span></li></ul></li><li><span><a href=\"#Приоритеты-операторов-Python\" data-toc-modified-id=\"Приоритеты-операторов-Python-1.8\"><span class=\"toc-item-num\">1.8&nbsp;&nbsp;</span>Приоритеты операторов Python</a></span></li></ul></li></ul></div>"
   ]
  },
  {
   "cell_type": "markdown",
   "metadata": {},
   "source": [
    "# Операторы\n",
    "\n",
    "\n",
    "> ***Оператор в Python*** — это символ, который выполняет операцию над одним или несколькими операндами.\n",
    "Операндом выступает переменная или значение, над которыми проводится операция.\n",
    "\n",
    "**Операторы Python бывают 7 типов:**\n",
    "\n",
    "* Арифметические операторы\n",
    "* Битовые операторы\n",
    "\n",
    "\n",
    "* Операторы присваивания\n",
    "\n",
    "\n",
    "* Операторы сравнения\n",
    "* Логические операторы\n",
    "\n",
    "\n",
    "* Операторы принадлежности\n",
    "* Операторы тождественности\n",
    "\n",
    "***\n",
    "***"
   ]
  },
  {
   "cell_type": "markdown",
   "metadata": {},
   "source": [
    "## Арифметические операторы в Python\n",
    "\n",
    "Арифметические операторы используются с числовыми значениями для выполнения общих математических операций:\n",
    "\n",
    "| **Оператор** |      **Значение**     | **Пример**  |\n",
    "|--------------|:---------------------:|-------------|\n",
    "|       +      |        Сложение       | 2 + 2 = 4   |\n",
    "|       -      |       Вычитание       | 4 - 2 = 2   |\n",
    "|       *      |       Умножение       | 2 * 2 = 4   |\n",
    "|       /      |        Деление        | 4 / 2 = 2.0 |\n",
    "|      **      |  Возведение в степень | 2 ** 3 = 8  |\n",
    "|       %      |   Остаток от деления  | 5 % 2 = 1   |\n",
    "|      //      | Целочисленное деление | 5 // 2 = 2  |"
   ]
  },
  {
   "cell_type": "code",
   "execution_count": null,
   "metadata": {},
   "outputs": [],
   "source": [
    "# Сложение\n",
    "\n",
    "rez = 2 + 2\n",
    "print(rez, type(rez))\n",
    "\n",
    "rez = 2.0 + 2.0\n",
    "print(rez, type(rez))\n",
    "\n",
    "rez = 2 + 2.0\n",
    "print(rez, type(rez))\n",
    "\n",
    "rez = 2.0 + 2\n",
    "print(rez, type(rez))"
   ]
  },
  {
   "cell_type": "code",
   "execution_count": null,
   "metadata": {},
   "outputs": [],
   "source": [
    "# Вычитание\n",
    "\n",
    "rez = 4 - 2\n",
    "print(rez, type(rez))\n",
    "\n",
    "rez = 4.0 - 2.0\n",
    "print(rez, type(rez))\n",
    "\n",
    "rez = 4 - 2.0\n",
    "print(rez, type(rez))\n",
    "\n",
    "rez = 4.0 - 2\n",
    "print(rez, type(rez))"
   ]
  },
  {
   "cell_type": "code",
   "execution_count": null,
   "metadata": {},
   "outputs": [],
   "source": [
    "# Умножение\n",
    "\n",
    "rez = 2 * 2\n",
    "print(rez, type(rez))\n",
    "\n",
    "rez = 2.0 * 2.0\n",
    "print(rez, type(rez))\n",
    "\n",
    "rez = 2 * 2.0\n",
    "print(rez, type(rez))\n",
    "\n",
    "rez = 2.0 * 2\n",
    "print(rez, type(rez))"
   ]
  },
  {
   "cell_type": "code",
   "execution_count": null,
   "metadata": {},
   "outputs": [],
   "source": [
    "# Деление\n",
    "\n",
    "rez = 4 / 2\n",
    "print(rez, type(rez))\n",
    "\n",
    "rez = 4.0 / 2.0\n",
    "print(rez, type(rez))\n",
    "\n",
    "rez = 4 / 2.0\n",
    "print(rez, type(rez))\n",
    "\n",
    "rez = 4.0 / 2\n",
    "print(rez, type(rez))"
   ]
  },
  {
   "cell_type": "markdown",
   "metadata": {},
   "source": [
    "**!!! Деление меняет тип результата !!!**\n",
    "\n",
    "***\n",
    "***"
   ]
  },
  {
   "cell_type": "code",
   "execution_count": null,
   "metadata": {},
   "outputs": [],
   "source": [
    "# Возведение в степень\n",
    "\n",
    "rez = 2 ** 3\n",
    "print(rez, type(rez))\n",
    "\n",
    "rez = 2.0 ** 3.0\n",
    "print(rez, type(rez))\n",
    "\n",
    "rez = 2 ** 3.0\n",
    "print(rez, type(rez))\n",
    "\n",
    "rez = 2.0 ** 3\n",
    "print(rez, type(rez))"
   ]
  },
  {
   "cell_type": "code",
   "execution_count": null,
   "metadata": {},
   "outputs": [],
   "source": [
    "# Извлечение корня\n",
    "\n",
    "rez = 2 ** 0.5\n",
    "print(rez, type(rez))\n",
    "print(format(rez, \".56f\"), \"\\n\")\n",
    "\n",
    "rez = 4 ** 0.5\n",
    "print(rez, type(rez))\n",
    "\n",
    "rez = 8 ** 0.333333333\n",
    "print(rez, type(rez))\n",
    "\n",
    "rez = 8 ** 0.3333333333333333333333333\n",
    "print(rez, type(rez))\n",
    "\n",
    "rez = 8 ** (1 / 3)\n",
    "print(rez, type(rez))"
   ]
  },
  {
   "cell_type": "code",
   "execution_count": null,
   "metadata": {},
   "outputs": [],
   "source": [
    "# Остаток от деления\n",
    "\n",
    "rez = 5 % 2\n",
    "print(rez, type(rez))\n",
    "\n",
    "rez = 5.0 % 2.0\n",
    "print(rez, type(rez))\n",
    "\n",
    "rez = 5.0 % 2\n",
    "print(rez, type(rez))\n",
    "\n",
    "rez = 5 % 2.0\n",
    "print(rez, type(rez))\n",
    "\n",
    "rez = 5 % 2.5\n",
    "print(rez, type(rez))\n",
    "\n",
    "rez = 5 % 2.2\n",
    "print(rez, type(rez))"
   ]
  },
  {
   "cell_type": "code",
   "execution_count": null,
   "metadata": {},
   "outputs": [],
   "source": [
    "# Целочисленное деление\n",
    "\n",
    "rez = 5 // 2\n",
    "print(rez, type(rez))\n",
    "\n",
    "rez = 5.0 // 2.0\n",
    "print(rez, type(rez))\n",
    "\n",
    "rez = 5.0 // 2\n",
    "print(rez, type(rez))\n",
    "\n",
    "rez = 5 // 2.0\n",
    "print(rez, type(rez))\n",
    "\n",
    "rez = 5 // 1.5\n",
    "print(rez, type(rez))"
   ]
  },
  {
   "cell_type": "markdown",
   "metadata": {},
   "source": [
    "## Операторы присваивания\n",
    "\n",
    "Оператор присваивания присваивает значение переменной. \n",
    "\n",
    "\n",
    "Он может манипулировать значением до присваивания. \n",
    "Есть 8 операторов присваивания: 1 простой и 7 с использованием арифметических операторов.\n",
    "\n",
    "```python\n",
    "=\n",
    "\n",
    "+=\n",
    "-=\n",
    "*=\n",
    "/=\n",
    "**=\n",
    "%=\n",
    "//=\n",
    "```\n",
    "\n",
    "> Например оператор ```+=``` Суммирует значение обеих сторон и присваивает его выражению слева. ```a += 10``` — это то же самое, что и ```a = a + 10```.\n",
    "\n",
    "> То же касается и все остальных операторов присваивания."
   ]
  },
  {
   "cell_type": "code",
   "execution_count": null,
   "metadata": {},
   "outputs": [],
   "source": [
    "a = 10\n",
    "print(a)\n",
    "\n",
    "a = a + 5\n",
    "print(a)\n",
    "\n",
    "a += 5\n",
    "print(a)"
   ]
  },
  {
   "cell_type": "code",
   "execution_count": null,
   "metadata": {},
   "outputs": [],
   "source": [
    "print(a)\n",
    "\n",
    "a = a - 5\n",
    "print(a)\n",
    "\n",
    "a -= 5\n",
    "print(a)"
   ]
  },
  {
   "cell_type": "markdown",
   "metadata": {},
   "source": [
    "***\n",
    "***\n",
    "\n",
    "\n",
    "В Python нет классических инкриментов и декриментов, таких как:\n",
    "\n",
    "```\n",
    "i++\n",
    "i--\n",
    "\n",
    "++i\n",
    "--i\n",
    "```\n",
    "\n",
    "Уменьшающих или увеличивающих значение переменной на 1."
   ]
  },
  {
   "cell_type": "code",
   "execution_count": null,
   "metadata": {},
   "outputs": [],
   "source": [
    "# Будет ошибка синтаксиса\n",
    "\n",
    "i = 0\n",
    "print(i)\n",
    "\n",
    "i++\n",
    "print(i)\n",
    "\n",
    "i--\n",
    "print(i)"
   ]
  },
  {
   "cell_type": "markdown",
   "metadata": {},
   "source": [
    "***\n",
    "***\n",
    "\n",
    "Вместо этого принято пользоваться записью:\n",
    "\n",
    "```python\n",
    "\n",
    "i += 1\n",
    "i -= 1\n",
    "\n",
    "```"
   ]
  },
  {
   "cell_type": "code",
   "execution_count": null,
   "metadata": {},
   "outputs": [],
   "source": [
    "i = 0\n",
    "print(i)\n",
    "\n",
    "i += 1\n",
    "print(i)\n",
    "\n",
    "i -= 1\n",
    "print(i)"
   ]
  },
  {
   "cell_type": "markdown",
   "metadata": {},
   "source": [
    "***\n",
    "***\n",
    "\n",
    "## Приоритеты операторов Python\n",
    "\n",
    "\n",
    "\n",
    "**Самые приоритетные операции ```вверху```, ```снизу``` — с низким приоритетом.**\n",
    "\n",
    "Вычисления выполняются ```слева направо```, то есть, если в выражении встретятся операторы одинаковых приоритетов, первым будет выполнен тот, что слева.\n",
    "\n",
    "> **Оператор возведения в степень исключение из этого правила.** Из двух операторов ** сначала выполнится правый, а потом левый."
   ]
  },
  {
   "cell_type": "markdown",
   "metadata": {},
   "source": [
    "**Оператор**|**Название**\n",
    ":-----:|:-----:\n",
    "( )|Скобки\n",
    "**|Возведение в степень\n",
    "+x, -x, ~x|Унарные плюс, минус и битовое отрицание\n",
    "*, /, //, %|Умножение, деления, взятие остатка\n",
    "+, -|Сложение и вычитание\n",
    "<<, >>|Битовые сдвиги\n",
    "&|Битовое И\n",
    "^|Битовое исключающее ИЛИ (XOR)\n",
    "||Битовое ИЛИ\n",
    "==, !=, >, >=, <, <=, is, is not, in, not in|Сравнение, проверка идентичности, проверка вхождения\n",
    "not|Логическое НЕ\n",
    "and|Логическое И\n",
    "or|Логическое ИЛИ\n",
    "=|Операторы присваивания"
   ]
  }
 ],
 "metadata": {
  "kernelspec": {
   "display_name": "Python 3 (ipykernel)",
   "language": "python",
   "name": "python3"
  },
  "language_info": {
   "codemirror_mode": {
    "name": "ipython",
    "version": 3
   },
   "file_extension": ".py",
   "mimetype": "text/x-python",
   "name": "python",
   "nbconvert_exporter": "python",
   "pygments_lexer": "ipython3",
   "version": "3.12.0"
  },
  "toc": {
   "base_numbering": 1,
   "nav_menu": {},
   "number_sections": true,
   "sideBar": true,
   "skip_h1_title": false,
   "title_cell": "Table of Contents",
   "title_sidebar": "Contents",
   "toc_cell": true,
   "toc_position": {},
   "toc_section_display": true,
   "toc_window_display": false
  }
 },
 "nbformat": 4,
 "nbformat_minor": 4
}
