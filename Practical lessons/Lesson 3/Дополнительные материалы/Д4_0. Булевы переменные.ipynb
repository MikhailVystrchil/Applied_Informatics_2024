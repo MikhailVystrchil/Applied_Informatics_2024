{
 "cells": [
  {
   "cell_type": "markdown",
   "metadata": {
    "toc": true
   },
   "source": [
    "<h1>Table of Contents<span class=\"tocSkip\"></span></h1>\n",
    "<div class=\"toc\"><ul class=\"toc-item\"><li><span><a href=\"#Лекция-1\" data-toc-modified-id=\"Лекция-1-1\"><span class=\"toc-item-num\">1&nbsp;&nbsp;</span>Лекция 1</a></span><ul class=\"toc-item\"><li><span><a href=\"#Язык-программирования-Python-и-его-преимущества\" data-toc-modified-id=\"Язык-программирования-Python-и-его-преимущества-1.1\"><span class=\"toc-item-num\">1.1&nbsp;&nbsp;</span>Язык программирования Python и его преимущества</a></span></li></ul></li><li><span><a href=\"#Типы-данных-в-Python\" data-toc-modified-id=\"Типы-данных-в-Python-2\"><span class=\"toc-item-num\">2&nbsp;&nbsp;</span>Типы данных в Python</a></span><ul class=\"toc-item\"><li><ul class=\"toc-item\"><li><span><a href=\"#Реализация-типов-данных-в-других-языках\" data-toc-modified-id=\"Реализация-типов-данных-в-других-языках-2.0.1\"><span class=\"toc-item-num\">2.0.1&nbsp;&nbsp;</span>Реализация типов данных в других языках</a></span></li></ul></li></ul></li><li><span><a href=\"#Работа-с-числами-в-Python\" data-toc-modified-id=\"Работа-с-числами-в-Python-3\"><span class=\"toc-item-num\">3&nbsp;&nbsp;</span>Работа с числами в Python</a></span><ul class=\"toc-item\"><li><span><a href=\"#Целые-числа\" data-toc-modified-id=\"Целые-числа-3.1\"><span class=\"toc-item-num\">3.1&nbsp;&nbsp;</span>Целые числа</a></span></li><li><span><a href=\"#Вещественные-числа\" data-toc-modified-id=\"Вещественные-числа-3.2\"><span class=\"toc-item-num\">3.2&nbsp;&nbsp;</span>Вещественные числа</a></span></li><li><span><a href=\"#Комплексные-числа\" data-toc-modified-id=\"Комплексные-числа-3.3\"><span class=\"toc-item-num\">3.3&nbsp;&nbsp;</span>Комплексные числа</a></span></li></ul></li><li><span><a href=\"#Булевы-значения\" data-toc-modified-id=\"Булевы-значения-4\"><span class=\"toc-item-num\">4&nbsp;&nbsp;</span>Булевы значения</a></span></li></ul></div>"
   ]
  },
  {
   "cell_type": "markdown",
   "metadata": {},
   "source": [
    "# Булевы значения\n",
    "\n",
    "Булевы значения в Python это две константы ```True``` и ```False```.\n",
    "\n",
    "В Python истинными и ложными значениями считаются не только ```True``` и ```False```.\n",
    "\n",
    "**истинное значение:**\n",
    "* любое ненулевое число\n",
    "* любая непустая строка\n",
    "* любой непустой объект\n",
    "\n",
    "\n",
    "**ложное значение:**\n",
    "* 0\n",
    "* None\n",
    "* пустая строка\n",
    "* пустой объект\n",
    "\n",
    "\n",
    "Остальные истинные и ложные значения, как правило, логически следуют из условия.\n",
    "\n",
    "Для проверки булевого значения объекта, можно воспользоваться ```bool```:\n"
   ]
  },
  {
   "cell_type": "code",
   "execution_count": null,
   "metadata": {},
   "outputs": [],
   "source": [
    "tr = True\n",
    "fls = False\n",
    "\n",
    "print(tr, type(tr))\n",
    "print(fls, type(fls))"
   ]
  },
  {
   "cell_type": "code",
   "execution_count": null,
   "metadata": {},
   "outputs": [],
   "source": [
    "print(bool(1))        # любое ненулевое число\n",
    "print(bool(666))      # любое ненулевое число\n",
    "print(bool(-28))      # любое ненулевое число\n",
    "print(bool(42.8))     # любое ненулевое число\n",
    "      \n",
    "print(bool(0))        # 0"
   ]
  },
  {
   "cell_type": "code",
   "execution_count": null,
   "metadata": {},
   "outputs": [],
   "source": [
    "items = [1, 2, 3]\n",
    "empty_list = []\n",
    "\n",
    "print(bool(items))          # НЕпустой объект\n",
    "print(bool(empty_list))     # пустой объект"
   ]
  },
  {
   "cell_type": "code",
   "execution_count": null,
   "metadata": {},
   "outputs": [],
   "source": [
    "string = \"password1234\"\n",
    "empty_str = \"\"\n",
    "\n",
    "print(bool(string))      # любая непустая строка\n",
    "print(bool(empty_str))   # пустая строка"
   ]
  },
  {
   "cell_type": "code",
   "execution_count": null,
   "metadata": {},
   "outputs": [],
   "source": [
    "n = None\n",
    "\n",
    "print(n, type(n))\n",
    "\n",
    "print(bool(n))"
   ]
  }
 ],
 "metadata": {
  "kernelspec": {
   "display_name": "Python 3 (ipykernel)",
   "language": "python",
   "name": "python3"
  },
  "language_info": {
   "codemirror_mode": {
    "name": "ipython",
    "version": 3
   },
   "file_extension": ".py",
   "mimetype": "text/x-python",
   "name": "python",
   "nbconvert_exporter": "python",
   "pygments_lexer": "ipython3",
   "version": "3.12.0"
  },
  "toc": {
   "base_numbering": 1,
   "nav_menu": {},
   "number_sections": true,
   "sideBar": true,
   "skip_h1_title": false,
   "title_cell": "Table of Contents",
   "title_sidebar": "Contents",
   "toc_cell": true,
   "toc_position": {},
   "toc_section_display": true,
   "toc_window_display": false
  }
 },
 "nbformat": 4,
 "nbformat_minor": 4
}
